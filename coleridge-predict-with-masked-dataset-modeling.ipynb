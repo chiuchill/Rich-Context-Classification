{
 "cells": [
  {
   "cell_type": "markdown",
   "id": "appreciated-adobe",
   "metadata": {
    "papermill": {
     "duration": 0.016938,
     "end_time": "2021-06-06T02:38:08.984669",
     "exception": false,
     "start_time": "2021-06-06T02:38:08.967731",
     "status": "completed"
    },
    "tags": []
   },
   "source": [
    "This notebook is a template on using Masked Language Modeling to identify datasets in papers.\n",
    "\n",
    "The training of the Bert model was done in another notebook: \\[Coleridge\\] BERT - Masked Dataset Modeling.\n",
    "\n",
    "The approach is:\n",
    "- Locate all the sequences of capitalized words (these sequences may contain some stopwords),\n",
    "- Replace each sequence with one of 2 special symbols (e.g. $ and #), implying if that sequence represents a dataset name or not.\n",
    "- Have the model learn the MLM task."
   ]
  },
  {
   "cell_type": "markdown",
   "id": "peaceful-huntington",
   "metadata": {
    "_cell_guid": "b1076dfc-b9ad-4769-8c92-a6c4dae69d19",
    "_uuid": "8f2839f25d086af736a60e9eeb907d3b93b6e0e5",
    "papermill": {
     "duration": 0.015344,
     "end_time": "2021-06-06T02:38:09.015617",
     "exception": false,
     "start_time": "2021-06-06T02:38:09.000273",
     "status": "completed"
    },
    "tags": []
   },
   "source": [
    "# Install packages"
   ]
  },
  {
   "cell_type": "code",
   "execution_count": 1,
   "id": "swiss-chorus",
   "metadata": {
    "_kg_hide-output": true,
    "execution": {
     "iopub.execute_input": "2021-06-06T02:38:09.052061Z",
     "iopub.status.busy": "2021-06-06T02:38:09.050616Z",
     "iopub.status.idle": "2021-06-06T02:38:36.102695Z",
     "shell.execute_reply": "2021-06-06T02:38:36.103341Z",
     "shell.execute_reply.started": "2021-06-06T01:50:00.798493Z"
    },
    "papermill": {
     "duration": 27.07239,
     "end_time": "2021-06-06T02:38:36.103619",
     "exception": false,
     "start_time": "2021-06-06T02:38:09.031229",
     "status": "completed"
    },
    "tags": []
   },
   "outputs": [
    {
     "name": "stdout",
     "output_type": "stream",
     "text": [
      "Looking in links: file:///kaggle/input/coleridge-packages/packages/datasets\r\n",
      "Processing /kaggle/input/coleridge-packages/packages/datasets/datasets-1.5.0-py3-none-any.whl\r\n",
      "Processing /kaggle/input/coleridge-packages/packages/datasets/huggingface_hub-0.0.7-py3-none-any.whl\r\n",
      "Processing /kaggle/input/coleridge-packages/packages/datasets/tqdm-4.49.0-py2.py3-none-any.whl\r\n",
      "Requirement already satisfied: dill in /opt/conda/lib/python3.7/site-packages (from datasets) (0.3.3)\r\n",
      "Requirement already satisfied: importlib-metadata in /opt/conda/lib/python3.7/site-packages (from datasets) (3.4.0)\r\n",
      "Requirement already satisfied: pyarrow>=0.17.1 in /opt/conda/lib/python3.7/site-packages (from datasets) (1.0.1)\r\n",
      "Requirement already satisfied: fsspec in /opt/conda/lib/python3.7/site-packages (from datasets) (0.8.5)\r\n",
      "Requirement already satisfied: requests>=2.19.0 in /opt/conda/lib/python3.7/site-packages (from datasets) (2.25.1)\r\n",
      "Requirement already satisfied: numpy>=1.17 in /opt/conda/lib/python3.7/site-packages (from datasets) (1.19.5)\r\n",
      "Requirement already satisfied: pandas in /opt/conda/lib/python3.7/site-packages (from datasets) (1.1.5)\r\n",
      "Requirement already satisfied: multiprocess in /opt/conda/lib/python3.7/site-packages (from datasets) (0.70.11.1)\r\n",
      "Processing /kaggle/input/coleridge-packages/packages/datasets/xxhash-2.0.0-cp37-cp37m-manylinux2010_x86_64.whl\r\n",
      "Requirement already satisfied: filelock in /opt/conda/lib/python3.7/site-packages (from huggingface-hub<0.1.0->datasets) (3.0.12)\r\n",
      "Requirement already satisfied: urllib3<1.27,>=1.21.1 in /opt/conda/lib/python3.7/site-packages (from requests>=2.19.0->datasets) (1.26.3)\r\n",
      "Requirement already satisfied: certifi>=2017.4.17 in /opt/conda/lib/python3.7/site-packages (from requests>=2.19.0->datasets) (2020.12.5)\r\n",
      "Requirement already satisfied: chardet<5,>=3.0.2 in /opt/conda/lib/python3.7/site-packages (from requests>=2.19.0->datasets) (3.0.4)\r\n",
      "Requirement already satisfied: idna<3,>=2.5 in /opt/conda/lib/python3.7/site-packages (from requests>=2.19.0->datasets) (2.10)\r\n",
      "Requirement already satisfied: zipp>=0.5 in /opt/conda/lib/python3.7/site-packages (from importlib-metadata->datasets) (3.4.0)\r\n",
      "Requirement already satisfied: typing-extensions>=3.6.4 in /opt/conda/lib/python3.7/site-packages (from importlib-metadata->datasets) (3.7.4.3)\r\n",
      "Requirement already satisfied: python-dateutil>=2.7.3 in /opt/conda/lib/python3.7/site-packages (from pandas->datasets) (2.8.1)\r\n",
      "Requirement already satisfied: pytz>=2017.2 in /opt/conda/lib/python3.7/site-packages (from pandas->datasets) (2021.1)\r\n",
      "Requirement already satisfied: six>=1.5 in /opt/conda/lib/python3.7/site-packages (from python-dateutil>=2.7.3->pandas->datasets) (1.15.0)\r\n",
      "Installing collected packages: tqdm, xxhash, huggingface-hub, datasets\r\n",
      "  Attempting uninstall: tqdm\r\n",
      "    Found existing installation: tqdm 4.56.2\r\n",
      "    Uninstalling tqdm-4.56.2:\r\n",
      "      Successfully uninstalled tqdm-4.56.2\r\n",
      "Successfully installed datasets-1.5.0 huggingface-hub-0.0.7 tqdm-4.49.0 xxhash-2.0.0\r\n",
      "Processing /kaggle/input/coleridge-packages/seqeval-1.2.2-py3-none-any.whl\r\n",
      "Requirement already satisfied: numpy>=1.14.0 in /opt/conda/lib/python3.7/site-packages (from seqeval==1.2.2) (1.19.5)\r\n",
      "Requirement already satisfied: scikit-learn>=0.21.3 in /opt/conda/lib/python3.7/site-packages (from seqeval==1.2.2) (0.24.1)\r\n",
      "Requirement already satisfied: scipy>=0.19.1 in /opt/conda/lib/python3.7/site-packages (from scikit-learn>=0.21.3->seqeval==1.2.2) (1.5.4)\r\n",
      "Requirement already satisfied: joblib>=0.11 in /opt/conda/lib/python3.7/site-packages (from scikit-learn>=0.21.3->seqeval==1.2.2) (1.0.1)\r\n",
      "Requirement already satisfied: threadpoolctl>=2.0.0 in /opt/conda/lib/python3.7/site-packages (from scikit-learn>=0.21.3->seqeval==1.2.2) (2.1.0)\r\n",
      "Installing collected packages: seqeval\r\n",
      "Successfully installed seqeval-1.2.2\r\n",
      "Processing /kaggle/input/coleridge-packages/tokenizers-0.10.1-cp37-cp37m-manylinux1_x86_64.whl\r\n",
      "tokenizers is already installed with the same version as the provided wheel. Use --force-reinstall to force an installation of the wheel.\r\n",
      "Processing /kaggle/input/coleridge-packages/transformers-4.5.0.dev0-py3-none-any.whl\r\n",
      "Requirement already satisfied: regex!=2019.12.17 in /opt/conda/lib/python3.7/site-packages (from transformers==4.5.0.dev0) (2020.11.13)\r\n",
      "Requirement already satisfied: filelock in /opt/conda/lib/python3.7/site-packages (from transformers==4.5.0.dev0) (3.0.12)\r\n",
      "Requirement already satisfied: tqdm>=4.27 in /opt/conda/lib/python3.7/site-packages (from transformers==4.5.0.dev0) (4.49.0)\r\n",
      "Requirement already satisfied: sacremoses in /opt/conda/lib/python3.7/site-packages (from transformers==4.5.0.dev0) (0.0.43)\r\n",
      "Requirement already satisfied: tokenizers<0.11,>=0.10.1 in /opt/conda/lib/python3.7/site-packages (from transformers==4.5.0.dev0) (0.10.1)\r\n",
      "Requirement already satisfied: packaging in /opt/conda/lib/python3.7/site-packages (from transformers==4.5.0.dev0) (20.9)\r\n",
      "Requirement already satisfied: importlib-metadata in /opt/conda/lib/python3.7/site-packages (from transformers==4.5.0.dev0) (3.4.0)\r\n",
      "Requirement already satisfied: numpy>=1.17 in /opt/conda/lib/python3.7/site-packages (from transformers==4.5.0.dev0) (1.19.5)\r\n",
      "Requirement already satisfied: requests in /opt/conda/lib/python3.7/site-packages (from transformers==4.5.0.dev0) (2.25.1)\r\n",
      "Requirement already satisfied: typing-extensions>=3.6.4 in /opt/conda/lib/python3.7/site-packages (from importlib-metadata->transformers==4.5.0.dev0) (3.7.4.3)\r\n",
      "Requirement already satisfied: zipp>=0.5 in /opt/conda/lib/python3.7/site-packages (from importlib-metadata->transformers==4.5.0.dev0) (3.4.0)\r\n",
      "Requirement already satisfied: pyparsing>=2.0.2 in /opt/conda/lib/python3.7/site-packages (from packaging->transformers==4.5.0.dev0) (2.4.7)\r\n",
      "Requirement already satisfied: urllib3<1.27,>=1.21.1 in /opt/conda/lib/python3.7/site-packages (from requests->transformers==4.5.0.dev0) (1.26.3)\r\n",
      "Requirement already satisfied: idna<3,>=2.5 in /opt/conda/lib/python3.7/site-packages (from requests->transformers==4.5.0.dev0) (2.10)\r\n",
      "Requirement already satisfied: certifi>=2017.4.17 in /opt/conda/lib/python3.7/site-packages (from requests->transformers==4.5.0.dev0) (2020.12.5)\r\n",
      "Requirement already satisfied: chardet<5,>=3.0.2 in /opt/conda/lib/python3.7/site-packages (from requests->transformers==4.5.0.dev0) (3.0.4)\r\n",
      "Requirement already satisfied: six in /opt/conda/lib/python3.7/site-packages (from sacremoses->transformers==4.5.0.dev0) (1.15.0)\r\n",
      "Requirement already satisfied: click in /opt/conda/lib/python3.7/site-packages (from sacremoses->transformers==4.5.0.dev0) (7.1.2)\r\n",
      "Requirement already satisfied: joblib in /opt/conda/lib/python3.7/site-packages (from sacremoses->transformers==4.5.0.dev0) (1.0.1)\r\n",
      "Installing collected packages: transformers\r\n",
      "  Attempting uninstall: transformers\r\n",
      "    Found existing installation: transformers 4.4.2\r\n",
      "    Uninstalling transformers-4.4.2:\r\n",
      "      Successfully uninstalled transformers-4.4.2\r\n",
      "\u001b[31mERROR: pip's dependency resolver does not currently take into account all the packages that are installed. This behaviour is the source of the following dependency conflicts.\r\n",
      "allennlp 2.2.0 requires transformers<4.5,>=4.1, but you have transformers 4.5.0.dev0 which is incompatible.\u001b[0m\r\n",
      "Successfully installed transformers-4.5.0.dev0\r\n"
     ]
    }
   ],
   "source": [
    "!pip install datasets --no-index --find-links=file:///kaggle/input/coleridge-packages/packages/datasets\n",
    "!pip install ../input/coleridge-packages/seqeval-1.2.2-py3-none-any.whl\n",
    "!pip install ../input/coleridge-packages/tokenizers-0.10.1-cp37-cp37m-manylinux1_x86_64.whl\n",
    "!pip install ../input/coleridge-packages/transformers-4.5.0.dev0-py3-none-any.whl"
   ]
  },
  {
   "cell_type": "markdown",
   "id": "sorted-pilot",
   "metadata": {
    "papermill": {
     "duration": 0.036733,
     "end_time": "2021-06-06T02:38:36.176345",
     "exception": false,
     "start_time": "2021-06-06T02:38:36.139612",
     "status": "completed"
    },
    "tags": []
   },
   "source": [
    "# Import"
   ]
  },
  {
   "cell_type": "code",
   "execution_count": 2,
   "id": "facial-remove",
   "metadata": {
    "execution": {
     "iopub.execute_input": "2021-06-06T02:38:36.260294Z",
     "iopub.status.busy": "2021-06-06T02:38:36.259492Z",
     "iopub.status.idle": "2021-06-06T02:38:43.830806Z",
     "shell.execute_reply": "2021-06-06T02:38:43.829806Z",
     "shell.execute_reply.started": "2021-06-06T01:51:48.821941Z"
    },
    "papermill": {
     "duration": 7.614355,
     "end_time": "2021-06-06T02:38:43.830947",
     "exception": false,
     "start_time": "2021-06-06T02:38:36.216592",
     "status": "completed"
    },
    "tags": []
   },
   "outputs": [],
   "source": [
    "import os\n",
    "import re\n",
    "import json\n",
    "import time\n",
    "import datetime\n",
    "import random\n",
    "import glob\n",
    "import importlib\n",
    "\n",
    "import numpy as np\n",
    "import pandas as pd\n",
    "\n",
    "from tqdm import tqdm\n",
    "import matplotlib.pyplot as plt\n",
    "import seaborn as sns\n",
    "\n",
    "import torch\n",
    "from datasets import load_dataset\n",
    "from transformers import AutoTokenizer, DataCollatorForLanguageModeling, \\\n",
    "AutoModelForMaskedLM, Trainer, TrainingArguments, pipeline\n",
    "\n",
    "sns.set()\n",
    "random.seed(123)\n",
    "np.random.seed(456)\n",
    "torch.manual_seed(2021)\n",
    "torch.backends.cudnn.deterministic = True\n",
    "torch.backends.cudnn.benchmark = False"
   ]
  },
  {
   "cell_type": "code",
   "execution_count": 3,
   "id": "middle-circulation",
   "metadata": {
    "execution": {
     "iopub.execute_input": "2021-06-06T02:38:43.878194Z",
     "iopub.status.busy": "2021-06-06T02:38:43.877309Z",
     "iopub.status.idle": "2021-06-06T02:38:43.879647Z",
     "shell.execute_reply": "2021-06-06T02:38:43.880059Z",
     "shell.execute_reply.started": "2021-06-06T01:53:14.909777Z"
    },
    "papermill": {
     "duration": 0.027886,
     "end_time": "2021-06-06T02:38:43.880186",
     "exception": false,
     "start_time": "2021-06-06T02:38:43.852300",
     "status": "completed"
    },
    "tags": []
   },
   "outputs": [],
   "source": [
    "PRETRAINED_PATH = '../input/coleridge-bert-masked-dataset-modeling/mlm-model'\n",
    "TOKENIZER_PATH = '../input/coleridge-bert-masked-dataset-modeling/model_tokenizer'\n",
    "\n",
    "MAX_LENGTH = 30\n",
    "OVERLAP = 20\n",
    "\n",
    "PREDICT_BATCH = 32\n",
    "\n",
    "DATASET_SYMBOL = '$' # this symbol represents a dataset name\n",
    "NONDATA_SYMBOL = '#' # this symbol represents a non-dataset name"
   ]
  },
  {
   "cell_type": "markdown",
   "id": "flexible-slovak",
   "metadata": {
    "papermill": {
     "duration": 0.020746,
     "end_time": "2021-06-06T02:38:43.921915",
     "exception": false,
     "start_time": "2021-06-06T02:38:43.901169",
     "status": "completed"
    },
    "tags": []
   },
   "source": [
    "# Load data"
   ]
  },
  {
   "cell_type": "code",
   "execution_count": 4,
   "id": "coordinate-antenna",
   "metadata": {
    "execution": {
     "iopub.execute_input": "2021-06-06T02:38:43.971583Z",
     "iopub.status.busy": "2021-06-06T02:38:43.971041Z",
     "iopub.status.idle": "2021-06-06T02:39:18.466137Z",
     "shell.execute_reply": "2021-06-06T02:39:18.465067Z",
     "shell.execute_reply.started": "2021-06-06T01:54:27.225767Z"
    },
    "papermill": {
     "duration": 34.523683,
     "end_time": "2021-06-06T02:39:18.466304",
     "exception": false,
     "start_time": "2021-06-06T02:38:43.942621",
     "status": "completed"
    },
    "tags": []
   },
   "outputs": [
    {
     "name": "stdout",
     "output_type": "stream",
     "text": [
      "sample_submission:  7379\n"
     ]
    }
   ],
   "source": [
    "# sample_submission_path = '../input/coleridgeinitiative-show-us-the-data/sample_submission.csv'\n",
    "# sample_submission = pd.read_csv(sample_submission_path)\n",
    "\n",
    "# sample_submission = sample_submission[:1]\n",
    "\n",
    "# paper_test_folder = '../input/coleridgeinitiative-show-us-the-data/test'\n",
    "# papers = {}\n",
    "# for paper_id in sample_submission['Id']:\n",
    "#     with open(f'{paper_test_folder}/{paper_id}.json', 'r') as f:\n",
    "#         paper = json.load(f)\n",
    "#         papers[paper_id] = paper\n",
    "        \n",
    "# train\n",
    "sample_submission_path = '../input/coleridgeinitiative-show-us-the-data/train.csv'\n",
    "paper_test_folder = '../input/coleridgeinitiative-show-us-the-data/train'\n",
    "\n",
    "sample_submission = pd.read_csv(sample_submission_path)\n",
    "sample_submission = sample_submission[:8000]\n",
    "# Group by publication, training labels should have the same form as expected output.\n",
    "sample_submission = sample_submission.groupby('Id').agg({\n",
    "    'pub_title': 'first',\n",
    "    'dataset_title': '|'.join,\n",
    "    'dataset_label': '|'.join,\n",
    "    'cleaned_label': '|'.join\n",
    "}).reset_index()    \n",
    "\n",
    "print('sample_submission: ', len(sample_submission))\n",
    "\n",
    "\n",
    "papers = {}\n",
    "for paper_id in sample_submission['Id']:\n",
    "    with open(f'{paper_test_folder}/{paper_id}.json', 'r') as f:\n",
    "        paper = json.load(f)\n",
    "        papers[paper_id] = paper"
   ]
  },
  {
   "cell_type": "code",
   "execution_count": 5,
   "id": "micro-dairy",
   "metadata": {
    "execution": {
     "iopub.execute_input": "2021-06-06T02:39:18.514997Z",
     "iopub.status.busy": "2021-06-06T02:39:18.513308Z",
     "iopub.status.idle": "2021-06-06T02:39:18.515575Z",
     "shell.execute_reply": "2021-06-06T02:39:18.515966Z",
     "shell.execute_reply.started": "2021-06-06T01:56:08.501722Z"
    },
    "papermill": {
     "duration": 0.027584,
     "end_time": "2021-06-06T02:39:18.516086",
     "exception": false,
     "start_time": "2021-06-06T02:39:18.488502",
     "status": "completed"
    },
    "tags": []
   },
   "outputs": [],
   "source": [
    "sample_submission = sample_submission[6379:]"
   ]
  },
  {
   "cell_type": "markdown",
   "id": "homeless-restriction",
   "metadata": {
    "papermill": {
     "duration": 0.020683,
     "end_time": "2021-06-06T02:39:18.557610",
     "exception": false,
     "start_time": "2021-06-06T02:39:18.536927",
     "status": "completed"
    },
    "tags": []
   },
   "source": [
    "# Transform data to MLM format"
   ]
  },
  {
   "cell_type": "markdown",
   "id": "sporting-safety",
   "metadata": {
    "papermill": {
     "duration": 0.020705,
     "end_time": "2021-06-06T02:39:18.599322",
     "exception": false,
     "start_time": "2021-06-06T02:39:18.578617",
     "status": "completed"
    },
    "tags": []
   },
   "source": [
    "### Load model and tokenizer"
   ]
  },
  {
   "cell_type": "code",
   "execution_count": 6,
   "id": "structured-sigma",
   "metadata": {
    "execution": {
     "iopub.execute_input": "2021-06-06T02:39:18.645285Z",
     "iopub.status.busy": "2021-06-06T02:39:18.644692Z",
     "iopub.status.idle": "2021-06-06T02:39:32.394880Z",
     "shell.execute_reply": "2021-06-06T02:39:32.393993Z",
     "shell.execute_reply.started": "2021-06-06T01:56:14.694338Z"
    },
    "papermill": {
     "duration": 13.774667,
     "end_time": "2021-06-06T02:39:32.395025",
     "exception": false,
     "start_time": "2021-06-06T02:39:18.620358",
     "status": "completed"
    },
    "tags": []
   },
   "outputs": [],
   "source": [
    "tokenizer = AutoTokenizer.from_pretrained(TOKENIZER_PATH, use_fast=True)\n",
    "model = AutoModelForMaskedLM.from_pretrained(PRETRAINED_PATH)\n",
    "\n",
    "mlm = pipeline(\n",
    "    'fill-mask', \n",
    "    model=model,\n",
    "    tokenizer=tokenizer,\n",
    "    device=0 if torch.cuda.is_available() else -1\n",
    ")"
   ]
  },
  {
   "cell_type": "markdown",
   "id": "union-pioneer",
   "metadata": {
    "papermill": {
     "duration": 0.020949,
     "end_time": "2021-06-06T02:39:32.437319",
     "exception": false,
     "start_time": "2021-06-06T02:39:32.416370",
     "status": "completed"
    },
    "tags": []
   },
   "source": [
    "### Auxiliary functions"
   ]
  },
  {
   "cell_type": "code",
   "execution_count": 7,
   "id": "determined-contemporary",
   "metadata": {
    "execution": {
     "iopub.execute_input": "2021-06-06T02:39:32.494710Z",
     "iopub.status.busy": "2021-06-06T02:39:32.493444Z",
     "iopub.status.idle": "2021-06-06T02:39:32.495865Z",
     "shell.execute_reply": "2021-06-06T02:39:32.496297Z",
     "shell.execute_reply.started": "2021-06-06T01:56:45.934470Z"
    },
    "papermill": {
     "duration": 0.038145,
     "end_time": "2021-06-06T02:39:32.496420",
     "exception": false,
     "start_time": "2021-06-06T02:39:32.458275",
     "status": "completed"
    },
    "tags": []
   },
   "outputs": [],
   "source": [
    "def clean_text(txt):\n",
    "    return re.sub('[^A-Za-z0-9]+', ' ', str(txt).lower()).strip()\n",
    "\n",
    "def jaccard_similarity(s1, s2):\n",
    "    l1 = s1.split(\" \")\n",
    "    l2 = s2.split(\" \")    \n",
    "    intersection = len(list(set(l1).intersection(l2)))\n",
    "    union = (len(l1) + len(l2)) - intersection\n",
    "    return float(intersection) / union\n",
    "\n",
    "def clean_paper_sentence(s):\n",
    "    \"\"\"\n",
    "    This function is essentially clean_text without lowercasing.\n",
    "    \"\"\"\n",
    "    s = re.sub('[^A-Za-z0-9]+', ' ', str(s)).strip()\n",
    "    s = re.sub(' +', ' ', s)\n",
    "    return s\n",
    "\n",
    "def shorten_sentences(sentences):\n",
    "    \"\"\"\n",
    "    Sentences that have more than MAX_LENGTH words will be split\n",
    "    into multiple sentences with overlappings.\n",
    "    \"\"\"\n",
    "    short_sentences = []\n",
    "    for sentence in sentences:\n",
    "        words = sentence.split()\n",
    "        if len(words) > MAX_LENGTH:\n",
    "            for p in range(0, len(words), MAX_LENGTH - OVERLAP):\n",
    "                short_sentences.append(' '.join(words[p:p+MAX_LENGTH]))\n",
    "        else:\n",
    "            short_sentences.append(sentence)\n",
    "    return short_sentences\n",
    "\n",
    "connection_tokens = {'s', 'of', 'and', 'in', 'on', 'for', 'data', 'dataset'}\n",
    "def find_mask_candidates(sentence):\n",
    "    \"\"\"\n",
    "    Extract masking candidates for Masked Dataset Modeling from a given $sentence.\n",
    "    A candidate should be a continuous sequence of at least 2 words, \n",
    "    each of these words either has the first letter in uppercase or is one of\n",
    "    the connection words ($connection_tokens). Furthermore, the connection \n",
    "    tokens are not allowed to appear at the beginning and the end of the\n",
    "    sequence.\n",
    "    \"\"\"\n",
    "    def candidate_qualified(words):\n",
    "        while len(words) and words[0].lower() in connection_tokens:\n",
    "            words = words[1:]\n",
    "        while len(words) and words[-1].lower() in connection_tokens:\n",
    "            words = words[:-1]\n",
    "        \n",
    "        return len(words) >= 2\n",
    "    \n",
    "    candidates = []\n",
    "    \n",
    "    phrase_start, phrase_end = -1, -1\n",
    "    for id in range(1, len(sentence)):\n",
    "        word = sentence[id]\n",
    "        if word[0].isupper() or word in connection_tokens:\n",
    "            if phrase_start == -1:\n",
    "                phrase_start = phrase_end = id\n",
    "            else:\n",
    "                phrase_end = id\n",
    "        else:\n",
    "            if phrase_start != -1:\n",
    "                if candidate_qualified(sentence[phrase_start:phrase_end+1]):\n",
    "                    candidates.append((phrase_start, phrase_end))\n",
    "                phrase_start = phrase_end = -1\n",
    "    \n",
    "    if phrase_start != -1:\n",
    "        if candidate_qualified(sentence[phrase_start:phrase_end+1]):\n",
    "            candidates.append((phrase_start, phrase_end))\n",
    "    \n",
    "    return candidates"
   ]
  },
  {
   "cell_type": "markdown",
   "id": "inner-eugene",
   "metadata": {
    "papermill": {
     "duration": 0.021052,
     "end_time": "2021-06-06T02:39:32.538352",
     "exception": false,
     "start_time": "2021-06-06T02:39:32.517300",
     "status": "completed"
    },
    "tags": []
   },
   "source": [
    "### Transform"
   ]
  },
  {
   "cell_type": "code",
   "execution_count": 8,
   "id": "eligible-copyright",
   "metadata": {
    "execution": {
     "iopub.execute_input": "2021-06-06T02:39:32.584971Z",
     "iopub.status.busy": "2021-06-06T02:39:32.583674Z",
     "iopub.status.idle": "2021-06-06T02:39:32.586487Z",
     "shell.execute_reply": "2021-06-06T02:39:32.586072Z",
     "shell.execute_reply.started": "2021-06-06T01:56:50.856181Z"
    },
    "papermill": {
     "duration": 0.027152,
     "end_time": "2021-06-06T02:39:32.586593",
     "exception": false,
     "start_time": "2021-06-06T02:39:32.559441",
     "status": "completed"
    },
    "tags": []
   },
   "outputs": [],
   "source": [
    "mask = mlm.tokenizer.mask_token"
   ]
  },
  {
   "cell_type": "code",
   "execution_count": 9,
   "id": "private-baking",
   "metadata": {
    "execution": {
     "iopub.execute_input": "2021-06-06T02:39:32.636938Z",
     "iopub.status.busy": "2021-06-06T02:39:32.635836Z",
     "iopub.status.idle": "2021-06-06T02:39:32.639410Z",
     "shell.execute_reply": "2021-06-06T02:39:32.639793Z",
     "shell.execute_reply.started": "2021-06-06T01:56:52.986882Z"
    },
    "papermill": {
     "duration": 0.030892,
     "end_time": "2021-06-06T02:39:32.639912",
     "exception": false,
     "start_time": "2021-06-06T02:39:32.609020",
     "status": "completed"
    },
    "tags": []
   },
   "outputs": [
    {
     "data": {
      "text/plain": [
       "'[MASK]'"
      ]
     },
     "execution_count": 9,
     "metadata": {},
     "output_type": "execute_result"
    }
   ],
   "source": [
    "mask"
   ]
  },
  {
   "cell_type": "code",
   "execution_count": 10,
   "id": "german-ethernet",
   "metadata": {
    "execution": {
     "iopub.execute_input": "2021-06-06T02:39:32.704617Z",
     "iopub.status.busy": "2021-06-06T02:39:32.699441Z",
     "iopub.status.idle": "2021-06-06T02:39:39.347884Z",
     "shell.execute_reply": "2021-06-06T02:39:39.348395Z",
     "shell.execute_reply.started": "2021-06-06T01:56:57.737445Z"
    },
    "papermill": {
     "duration": 6.687462,
     "end_time": "2021-06-06T02:39:39.348590",
     "exception": false,
     "start_time": "2021-06-06T02:39:32.661128",
     "status": "completed"
    },
    "tags": []
   },
   "outputs": [],
   "source": [
    "all_test_data = []\n",
    "\n",
    "# pbar = tqdm(total = len(sample_submission))\n",
    "for paper_id in sample_submission['Id']:\n",
    "    # load paper\n",
    "    paper = papers[paper_id]\n",
    "    \n",
    "    # extract sentences\n",
    "    sentences = set([clean_paper_sentence(sentence) for section in paper \n",
    "                     for sentence in section['text'].split('.')\n",
    "                    ])\n",
    "    sentences = shorten_sentences(sentences) # make sentences short\n",
    "    sentences = [sentence for sentence in sentences if len(sentence) > 10] # only accept sentences with length > 10 chars\n",
    "    sentences = [sentence for sentence in sentences if any(word in sentence.lower() for word in ['data', 'study'])]\n",
    "    sentences = [sentence.split() for sentence in sentences] # sentence = list of words\n",
    "    \n",
    "    # mask\n",
    "    test_data = []\n",
    "    for sentence in sentences:\n",
    "        for phrase_start, phrase_end in find_mask_candidates(sentence):\n",
    "            dt_point = sentence[:phrase_start] + [mask] + sentence[phrase_end+1:]\n",
    "            test_data.append((' '.join(dt_point), ' '.join(sentence[phrase_start:phrase_end+1]))) # (masked text, phrase)\n",
    "    \n",
    "    all_test_data.append(test_data)\n",
    "    \n",
    "    # process bar\n",
    "#     pbar.update(1)"
   ]
  },
  {
   "cell_type": "markdown",
   "id": "studied-library",
   "metadata": {
    "papermill": {
     "duration": 0.021369,
     "end_time": "2021-06-06T02:39:39.392162",
     "exception": false,
     "start_time": "2021-06-06T02:39:39.370793",
     "status": "completed"
    },
    "tags": []
   },
   "source": [
    "### Predict"
   ]
  },
  {
   "cell_type": "code",
   "execution_count": 11,
   "id": "educated-front",
   "metadata": {
    "execution": {
     "iopub.execute_input": "2021-06-06T02:39:39.444734Z",
     "iopub.status.busy": "2021-06-06T02:39:39.443875Z",
     "iopub.status.idle": "2021-06-06T03:12:19.294708Z",
     "shell.execute_reply": "2021-06-06T03:12:19.294208Z",
     "shell.execute_reply.started": "2021-06-06T01:59:31.848392Z"
    },
    "papermill": {
     "duration": 1959.881225,
     "end_time": "2021-06-06T03:12:19.294854",
     "exception": false,
     "start_time": "2021-06-06T02:39:39.413629",
     "status": "completed"
    },
    "scrolled": true,
    "tags": []
   },
   "outputs": [
    {
     "name": "stderr",
     "output_type": "stream",
     "text": [
      "100%|██████████| 1000/1000 [32:39<00:00,  1.18s/it]"
     ]
    }
   ],
   "source": [
    "pred_labels = []\n",
    "\n",
    "pbar = tqdm(total = len(all_test_data))\n",
    "for test_data in all_test_data:\n",
    "    pred_bag = set()\n",
    "    \n",
    "    if len(test_data):\n",
    "        texts, phrases = list(zip(*test_data))\n",
    "        mlm_pred = []\n",
    "        for p_id in range(0, len(texts)):\n",
    "            batch_texts = texts #[p_id:p_id+PREDICT_BATCH]\n",
    "            batch_pred = mlm(list(batch_texts), targets=[f' {DATASET_SYMBOL}', f' {NONDATA_SYMBOL}'])\n",
    "            \n",
    "            if len(batch_texts) == 1:\n",
    "                batch_pred = [batch_pred]\n",
    "            \n",
    "            mlm_pred.extend(batch_pred)\n",
    "        \n",
    "        for (result1, result2), phrase in zip(mlm_pred, phrases):\n",
    "            if (result1['score'] > result2['score']*1.5 and result1['token_str'] == DATASET_SYMBOL) or\\\n",
    "               (result2['score'] > result1['score']*1.5 and result2['token_str'] == NONDATA_SYMBOL):\n",
    "                pred_bag.add(clean_text(phrase))\n",
    "    \n",
    "    # filter labels by jaccard score \n",
    "    filtered_labels = []\n",
    "    \n",
    "    for label in sorted(pred_bag, key=len, reverse=True):\n",
    "        if len(filtered_labels) == 0 or all(jaccard_similarity(label, got_label) < 0.75 for got_label in filtered_labels):\n",
    "            filtered_labels.append(label)\n",
    "            \n",
    "    pred_labels.append('|'.join(filtered_labels))\n",
    "    pbar.update(1)\n",
    "\n",
    "sample_submission['PredictionString'] = pred_labels\n",
    "sample_submission.to_csv('submission.csv', index=False)"
   ]
  },
  {
   "cell_type": "code",
   "execution_count": 12,
   "id": "thorough-clearing",
   "metadata": {
    "execution": {
     "iopub.execute_input": "2021-06-06T03:12:19.760465Z",
     "iopub.status.busy": "2021-06-06T03:12:19.759826Z",
     "iopub.status.idle": "2021-06-06T03:12:19.764749Z",
     "shell.execute_reply": "2021-06-06T03:12:19.764357Z",
     "shell.execute_reply.started": "2021-06-06T02:35:34.873195Z"
    },
    "papermill": {
     "duration": 0.238668,
     "end_time": "2021-06-06T03:12:19.764861",
     "exception": false,
     "start_time": "2021-06-06T03:12:19.526193",
     "status": "completed"
    },
    "tags": []
   },
   "outputs": [
    {
     "data": {
      "text/plain": [
       "['adni and cache county data|cache county',\n",
       " '',\n",
       " '',\n",
       " 'prostate cancer prevention trial',\n",
       " 'european genome wide association study gwas']"
      ]
     },
     "execution_count": 12,
     "metadata": {},
     "output_type": "execute_result"
    }
   ],
   "source": [
    "sample_submission['PredictionString'].head().to_list()"
   ]
  },
  {
   "cell_type": "code",
   "execution_count": 13,
   "id": "suspected-focus",
   "metadata": {
    "execution": {
     "iopub.execute_input": "2021-06-06T03:12:20.351310Z",
     "iopub.status.busy": "2021-06-06T03:12:20.350501Z",
     "iopub.status.idle": "2021-06-06T03:12:20.352757Z",
     "shell.execute_reply": "2021-06-06T03:12:20.353157Z",
     "shell.execute_reply.started": "2021-06-06T02:35:58.989050Z"
    },
    "papermill": {
     "duration": 0.35893,
     "end_time": "2021-06-06T03:12:20.353421",
     "exception": false,
     "start_time": "2021-06-06T03:12:19.994491",
     "status": "completed"
    },
    "tags": []
   },
   "outputs": [],
   "source": [
    "from typing import List\n",
    "import string\n",
    "from functools import partial\n",
    "import numpy as np"
   ]
  },
  {
   "cell_type": "code",
   "execution_count": 14,
   "id": "departmental-employment",
   "metadata": {
    "execution": {
     "iopub.execute_input": "2021-06-06T03:12:20.938200Z",
     "iopub.status.busy": "2021-06-06T03:12:20.937396Z",
     "iopub.status.idle": "2021-06-06T03:12:20.940117Z",
     "shell.execute_reply": "2021-06-06T03:12:20.939721Z",
     "shell.execute_reply.started": "2021-06-06T02:36:03.737564Z"
    },
    "papermill": {
     "duration": 0.241294,
     "end_time": "2021-06-06T03:12:20.940245",
     "exception": false,
     "start_time": "2021-06-06T03:12:20.698951",
     "status": "completed"
    },
    "tags": []
   },
   "outputs": [],
   "source": [
    "# https://www.kaggle.com/c/coleridgeinitiative-show-us-the-data/discussion/230091\n",
    "def compute_fbeta(y_true: List[List[str]],\n",
    "                  y_pred: List[List[str]],\n",
    "                  beta: float = 0.5) -> float:\n",
    "    \"\"\"Compute the Jaccard-based micro FBeta score.\n",
    "\n",
    "    References\n",
    "    ----------\n",
    "    - https://www.kaggle.com/c/coleridgeinitiative-show-us-the-data/overview/evaluation\n",
    "    \"\"\"\n",
    "\n",
    "    def _jaccard_similarity(str1: str, str2: str) -> float:\n",
    "        a = set(str1.split()) \n",
    "        b = set(str2.split())\n",
    "        c = a.intersection(b)\n",
    "        return float(len(c)) / (len(a) + len(b) - len(c))\n",
    "\n",
    "    tp = 0  # true positive\n",
    "    fp = 0  # false positive\n",
    "    fn = 0  # false negative\n",
    "    for ground_truth_list, predicted_string_list in zip(y_true, y_pred):\n",
    "        predicted_string_list_sorted = sorted(predicted_string_list)\n",
    "        for ground_truth in sorted(ground_truth_list):            \n",
    "            if len(predicted_string_list_sorted) == 0:\n",
    "                fn += 1\n",
    "            else:\n",
    "                similarity_scores = [\n",
    "                    _jaccard_similarity(ground_truth, predicted_string)\n",
    "                    for predicted_string in predicted_string_list_sorted\n",
    "                ]\n",
    "                matched_idx = np.argmax(similarity_scores)\n",
    "                if similarity_scores[matched_idx] >= 0.5:\n",
    "                    predicted_string_list_sorted.pop(matched_idx)\n",
    "                    tp += 1\n",
    "                else:\n",
    "                    fn += 1\n",
    "        fp += len(predicted_string_list_sorted)\n",
    "\n",
    "    tp *= (1 + beta ** 2)\n",
    "    fn *= beta ** 2\n",
    "    fbeta_score = tp / (tp + fp + fn)\n",
    "    return fbeta_score"
   ]
  },
  {
   "cell_type": "code",
   "execution_count": 15,
   "id": "arctic-decade",
   "metadata": {
    "execution": {
     "iopub.execute_input": "2021-06-06T03:12:21.429113Z",
     "iopub.status.busy": "2021-06-06T03:12:21.428603Z",
     "iopub.status.idle": "2021-06-06T03:12:21.434550Z",
     "shell.execute_reply": "2021-06-06T03:12:21.433917Z",
     "shell.execute_reply.started": "2021-06-06T02:37:18.440518Z"
    },
    "papermill": {
     "duration": 0.263794,
     "end_time": "2021-06-06T03:12:21.434699",
     "exception": false,
     "start_time": "2021-06-06T03:12:21.170905",
     "status": "completed"
    },
    "tags": []
   },
   "outputs": [
    {
     "name": "stdout",
     "output_type": "stream",
     "text": [
      "COMPUTE_CV_SCORE = 0.11266447368421052\n"
     ]
    }
   ],
   "source": [
    "COMPUTE_CV = True\n",
    "if COMPUTE_CV:\n",
    "    COMPUTE_CV_SCORE = compute_fbeta(sample_submission['cleaned_label'].apply(lambda x: [x]),\\\n",
    "                  sample_submission['PredictionString'].apply(lambda x: x.split('|')))\n",
    "    print('COMPUTE_CV_SCORE =', COMPUTE_CV_SCORE)\n",
    "else:\n",
    "    print(f'COMPUTE_CV = {COMPUTE_CV}')\n",
    "    \n",
    "# print(f'ALL_BLENDED = {ALL_BLENDED}')\n",
    "# print(f'BASELINE_HELPING = {BASELINE_HELPING}')\n",
    "# print(f'MATCH_ONLY = {MATCH_ONLY}')"
   ]
  },
  {
   "cell_type": "code",
   "execution_count": 16,
   "id": "median-version",
   "metadata": {
    "execution": {
     "iopub.execute_input": "2021-06-06T03:12:21.949080Z",
     "iopub.status.busy": "2021-06-06T03:12:21.948130Z",
     "iopub.status.idle": "2021-06-06T03:12:21.956948Z",
     "shell.execute_reply": "2021-06-06T03:12:21.957489Z",
     "shell.execute_reply.started": "2021-06-06T02:36:47.253732Z"
    },
    "papermill": {
     "duration": 0.276291,
     "end_time": "2021-06-06T03:12:21.957629",
     "exception": false,
     "start_time": "2021-06-06T03:12:21.681338",
     "status": "completed"
    },
    "tags": []
   },
   "outputs": [
    {
     "data": {
      "text/html": [
       "<div>\n",
       "<style scoped>\n",
       "    .dataframe tbody tr th:only-of-type {\n",
       "        vertical-align: middle;\n",
       "    }\n",
       "\n",
       "    .dataframe tbody tr th {\n",
       "        vertical-align: top;\n",
       "    }\n",
       "\n",
       "    .dataframe thead th {\n",
       "        text-align: right;\n",
       "    }\n",
       "</style>\n",
       "<table border=\"1\" class=\"dataframe\">\n",
       "  <thead>\n",
       "    <tr style=\"text-align: right;\">\n",
       "      <th></th>\n",
       "      <th>Id</th>\n",
       "      <th>pub_title</th>\n",
       "      <th>dataset_title</th>\n",
       "      <th>dataset_label</th>\n",
       "      <th>cleaned_label</th>\n",
       "      <th>PredictionString</th>\n",
       "    </tr>\n",
       "  </thead>\n",
       "  <tbody>\n",
       "    <tr>\n",
       "      <th>6379</th>\n",
       "      <td>dce3207b-8aac-4b80-8f9b-2657feb1a810</td>\n",
       "      <td>Common DNA Variants Accurately Rank an Individ...</td>\n",
       "      <td>Alzheimer's Disease Neuroimaging Initiative (A...</td>\n",
       "      <td>ADNI</td>\n",
       "      <td>adni</td>\n",
       "      <td>adni and cache county data|cache county</td>\n",
       "    </tr>\n",
       "    <tr>\n",
       "      <th>6380</th>\n",
       "      <td>dceca720-75f9-4c91-b6e4-0f28467167c2</td>\n",
       "      <td>From Sputnik to PISA Shock – New Technology an...</td>\n",
       "      <td>Trends in International Mathematics and Scienc...</td>\n",
       "      <td>Trends in International Mathematics and Scienc...</td>\n",
       "      <td>trends in international mathematics and scienc...</td>\n",
       "      <td></td>\n",
       "    </tr>\n",
       "    <tr>\n",
       "      <th>6381</th>\n",
       "      <td>dcf661da-9b5d-4d1f-9062-5394a38ee067</td>\n",
       "      <td>Identifying Factors Affecting the Quality of T...</td>\n",
       "      <td>Trends in International Mathematics and Scienc...</td>\n",
       "      <td>Trends in International Mathematics and Scienc...</td>\n",
       "      <td>trends in international mathematics and scienc...</td>\n",
       "      <td></td>\n",
       "    </tr>\n",
       "    <tr>\n",
       "      <th>6382</th>\n",
       "      <td>dcfdba13-e25b-40ce-9747-b3fe3a31a334</td>\n",
       "      <td>Should prostate-specific antigen velocity be a...</td>\n",
       "      <td>Baltimore Longitudinal Study of Aging (BLSA)</td>\n",
       "      <td>Baltimore Longitudinal Study of Aging</td>\n",
       "      <td>baltimore longitudinal study of aging</td>\n",
       "      <td>prostate cancer prevention trial</td>\n",
       "    </tr>\n",
       "    <tr>\n",
       "      <th>6383</th>\n",
       "      <td>dd024565-6d8d-45c2-ac04-1e454abbf409</td>\n",
       "      <td>Positioning Personal Polygenic Risk score agai...</td>\n",
       "      <td>Alzheimer's Disease Neuroimaging Initiative (A...</td>\n",
       "      <td>ADNI</td>\n",
       "      <td>adni</td>\n",
       "      <td>european genome wide association study gwas</td>\n",
       "    </tr>\n",
       "  </tbody>\n",
       "</table>\n",
       "</div>"
      ],
      "text/plain": [
       "                                        Id  \\\n",
       "6379  dce3207b-8aac-4b80-8f9b-2657feb1a810   \n",
       "6380  dceca720-75f9-4c91-b6e4-0f28467167c2   \n",
       "6381  dcf661da-9b5d-4d1f-9062-5394a38ee067   \n",
       "6382  dcfdba13-e25b-40ce-9747-b3fe3a31a334   \n",
       "6383  dd024565-6d8d-45c2-ac04-1e454abbf409   \n",
       "\n",
       "                                              pub_title  \\\n",
       "6379  Common DNA Variants Accurately Rank an Individ...   \n",
       "6380  From Sputnik to PISA Shock – New Technology an...   \n",
       "6381  Identifying Factors Affecting the Quality of T...   \n",
       "6382  Should prostate-specific antigen velocity be a...   \n",
       "6383  Positioning Personal Polygenic Risk score agai...   \n",
       "\n",
       "                                          dataset_title  \\\n",
       "6379  Alzheimer's Disease Neuroimaging Initiative (A...   \n",
       "6380  Trends in International Mathematics and Scienc...   \n",
       "6381  Trends in International Mathematics and Scienc...   \n",
       "6382       Baltimore Longitudinal Study of Aging (BLSA)   \n",
       "6383  Alzheimer's Disease Neuroimaging Initiative (A...   \n",
       "\n",
       "                                          dataset_label  \\\n",
       "6379                                               ADNI   \n",
       "6380  Trends in International Mathematics and Scienc...   \n",
       "6381  Trends in International Mathematics and Scienc...   \n",
       "6382              Baltimore Longitudinal Study of Aging   \n",
       "6383                                               ADNI   \n",
       "\n",
       "                                          cleaned_label  \\\n",
       "6379                                               adni   \n",
       "6380  trends in international mathematics and scienc...   \n",
       "6381  trends in international mathematics and scienc...   \n",
       "6382              baltimore longitudinal study of aging   \n",
       "6383                                               adni   \n",
       "\n",
       "                                 PredictionString  \n",
       "6379      adni and cache county data|cache county  \n",
       "6380                                               \n",
       "6381                                               \n",
       "6382             prostate cancer prevention trial  \n",
       "6383  european genome wide association study gwas  "
      ]
     },
     "execution_count": 16,
     "metadata": {},
     "output_type": "execute_result"
    }
   ],
   "source": [
    "sample_submission[:5]"
   ]
  },
  {
   "cell_type": "code",
   "execution_count": null,
   "id": "functioning-namibia",
   "metadata": {
    "papermill": {
     "duration": 0.231047,
     "end_time": "2021-06-06T03:12:22.439672",
     "exception": false,
     "start_time": "2021-06-06T03:12:22.208625",
     "status": "completed"
    },
    "tags": []
   },
   "outputs": [],
   "source": []
  }
 ],
 "metadata": {
  "kernelspec": {
   "display_name": "Python 3",
   "language": "python",
   "name": "python3"
  },
  "language_info": {
   "codemirror_mode": {
    "name": "ipython",
    "version": 3
   },
   "file_extension": ".py",
   "mimetype": "text/x-python",
   "name": "python",
   "nbconvert_exporter": "python",
   "pygments_lexer": "ipython3",
   "version": "3.7.10"
  },
  "papermill": {
   "default_parameters": {},
   "duration": 2061.33347,
   "end_time": "2021-06-06T03:12:25.098199",
   "environment_variables": {},
   "exception": null,
   "input_path": "__notebook__.ipynb",
   "output_path": "__notebook__.ipynb",
   "parameters": {},
   "start_time": "2021-06-06T02:38:03.764729",
   "version": "2.3.2"
  }
 },
 "nbformat": 4,
 "nbformat_minor": 5
}
